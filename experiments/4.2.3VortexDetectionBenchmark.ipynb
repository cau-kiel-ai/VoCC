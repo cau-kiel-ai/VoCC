{
 "cells": [
  {
   "attachments": {},
   "cell_type": "markdown",
   "metadata": {},
   "source": [
    "# Benchmarking the cluster performance of VoCC against DBSCAN on synthetic data\n",
    "We used synthetic data that consits of vortices with noise along the movement vectors and background noise to assess the clustering performance of VoCC.\n",
    "We compared how well vortices are detected by VoCC in comparison to DBSCAN by computing the precision and recall of clustered vs noise datapoints."
   ]
  },
  {
   "cell_type": "code",
   "execution_count": 2,
   "metadata": {
    "vscode": {
     "languageId": "python"
    }
   },
   "outputs": [],
   "source": [
    "# IMPORT\n",
    "%run ../scripts/experiment_utils.py\n",
    "\n",
    "from matplotlib.cm import get_cmap\n",
    "from matplotlib.patches import Circle\n",
    "import numpy as np\n",
    "from sklearn.cluster import DBSCAN\n",
    "from sklearn.neighbors import KDTree\n",
    "from VoCC import VortexCorrelationClustering"
   ]
  },
  {
   "cell_type": "code",
   "execution_count": 3,
   "metadata": {
    "vscode": {
     "languageId": "python"
    }
   },
   "outputs": [],
   "source": [
    "# Both benchmark functions for the generated data.\n",
    "def benchmark_dbscan(coordinates):\n",
    "    dbscan = DBSCAN(eps = 12, min_samples=12).fit(coordinates[:,:2])\n",
    "    predicted_labels = dbscan.labels_\n",
    "    L = coordinates[:, 4]\n",
    "\n",
    "    return predicted_labels, calc_rates(predicted_labels, L)\n",
    "\n",
    "\n",
    "def benchmark(coordinates, dimension_x, dimension_y, possible_radii):\n",
    "    L = coordinates[:, 4]\n",
    "    vocc = VortexCorrelationClustering(radii = possible_radii, resolution = 1, sectors = 15, circle_coverage_rate = .8, qth_threshold = .99, min_points = .01)\n",
    "    predicted_labels = vocc.fit(coordinates[:, :4]).labels_\n",
    "\n",
    "    return predicted_labels, calc_rates(predicted_labels, L)"
   ]
  },
  {
   "cell_type": "code",
   "execution_count": 11,
   "metadata": {
    "vscode": {
     "languageId": "python"
    }
   },
   "outputs": [
    {
     "name": "stderr",
     "output_type": "stream",
     "text": [
      "100%|██████████| 100/100 [44:11<00:00, 26.51s/it]"
     ]
    },
    {
     "name": "stdout",
     "output_type": "stream",
     "text": [
      "VorCC precision 98.05; recall 81.07; f1score 1.5953981853586796\n",
      "DBSCAN precision 91.16; recall 81.88; f1score 1.515910306942827\n"
     ]
    },
    {
     "name": "stderr",
     "output_type": "stream",
     "text": [
      "\n"
     ]
    }
   ],
   "source": [
    "# We used a set of fixed seeds to generate the synthethic data and cluster them with VoCC and DBSCAN.\n",
    "# The resulting labels are checked against the ground truth to quantify the clustering performance. \n",
    "from tqdm import tqdm\n",
    "precisions_vorcc, recalls_vorcc, f1scores_vorcc = [], [], []\n",
    "precisions_db, recalls_db, f1scores_db = [], [], []\n",
    "seeds = [2919, 7166, 3756, 5454, 3283, 4691, 6828, 7350, 1156, 3061, 7157,\n",
    "       5919, 5893, 4445, 6436, 1292, 9752, 9175, 7902, 2067, 1979, 1736,\n",
    "       1918,  700, 4046, 2073, 4661,  394, 3048, 3452,  522, 9754, 8741,\n",
    "       1468, 6230, 8116, 9024, 6811, 1421, 7987,  285, 2745, 7108, 4464,\n",
    "       1445, 5837, 1466, 9968, 7167, 9106, 8479, 4426, 5932, 9996, 1178,\n",
    "       2551, 4370, 9780, 6322, 9967, 4862, 9179, 5855, 1203, 7349, 6386,\n",
    "       1119, 8388, 3975, 8717, 9602, 1292, 9386, 3655, 4786, 2217, 6590,\n",
    "       1017, 5176, 3590, 8239, 9019, 6176, 6647, 4722, 6015, 5122, 7683,\n",
    "       2089, 2056, 9010, 3680, 4885, 3114, 7383, 1629, 1543, 7512, 5769,\n",
    "       1904]\n",
    "\n",
    "dim_x, dim_y, radii = 500, 300, np.arange(15,55, 5)\n",
    "snr, n_vortices = .75, 17\n",
    "for seed in tqdm(seeds):\n",
    "    np.random.seed(seed)\n",
    "    coordinates = create_benchmarking_dataset(dim_x, dim_y, n_vortices, 100, snr, radii, 0)\n",
    "    predicted_labels, results = benchmark(coordinates, 500, 300, radii)\n",
    "    precisions_vorcc.append(results['TP'] / (results['TP'] + results['FP']))\n",
    "    recalls_vorcc.append(results['TP'] / (results['TP'] + results['FN']))\n",
    "    f1scores_vorcc.append(2*results['TP'] / (results['TP'] + results['FN'] +  results['FP']))\n",
    "    predicted_labels, results = benchmark_dbscan(coordinates)\n",
    "    precisions_db.append(results['TP'] / (results['TP'] + results['FP']))\n",
    "    recalls_db.append(results['TP'] / (results['TP'] + results['FN']))\n",
    "    f1scores_db.append(2*results['TP'] / (results['TP'] + results['FN'] +  results['FP']))\n",
    "\n",
    "\n",
    "print(f'VorCC precision {np.mean(precisions_vorcc) * 100:.2f}; recall {np.mean(recalls_vorcc) * 100:.2f}; f1score {np.mean(f1scores_vorcc)}')\n",
    "print(f'DBSCAN precision {np.mean(precisions_db) * 100:.2f}; recall {np.mean(recalls_db) * 100:.2f}; f1score {np.mean(f1scores_db)}')"
   ]
  }
 ],
 "metadata": {
  "kernelspec": {
   "display_name": "Python 3 (ipykernel)",
   "language": "python",
   "name": "python3"
  },
  "vscode": {
   "interpreter": {
    "hash": "916dbcbb3f70747c44a77c7bcd40155683ae19c65e1c03b4aa3499c5328201f1"
   }
  }
 },
 "nbformat": 4,
 "nbformat_minor": 4
}
